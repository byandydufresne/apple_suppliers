{
 "cells": [
  {
   "cell_type": "code",
   "execution_count": 1,
   "metadata": {},
   "outputs": [],
   "source": [
    "import pandas as pd\n",
    "import camelot"
   ]
  },
  {
   "cell_type": "markdown",
   "metadata": {},
   "source": [
    "## Parse table from PDF"
   ]
  },
  {
   "cell_type": "code",
   "execution_count": 3,
   "metadata": {},
   "outputs": [],
   "source": [
    "filename = 'data/Apple-Supplier-List.pdf'\n",
    "tables = camelot.read_pdf(filename, flavor='stream', pages='1-end')"
   ]
  },
  {
   "cell_type": "code",
   "execution_count": null,
   "metadata": {},
   "outputs": [],
   "source": [
    "companies = pd.concat(\n",
    "    [tables[0].df[5:-1]] +\n",
    "    [table.df[:-1] for table in tables[1:-1]] +\n",
    "    [tables[-1].df[4:12]]\n",
    ").drop(columns=[2]) \\\n",
    ".rename(columns={0: 'supplier_name', 1: 'address'}) \\\n",
    ".reset_index(drop=True)"
   ]
  },
  {
   "cell_type": "code",
   "execution_count": null,
   "metadata": {},
   "outputs": [],
   "source": [
    "companies[10:15]"
   ]
  },
  {
   "cell_type": "code",
   "execution_count": null,
   "metadata": {},
   "outputs": [],
   "source": [
    "def fix_multirow(companies, mr_col, merge_col, multiline_vals=[None, '']):\n",
    "    to_drop = []\n",
    "\n",
    "    for i, row in companies.iterrows():\n",
    "        if row[mr_col].strip() in multiline_vals:\n",
    "            prev_row = companies.iloc[i-1]\n",
    "\n",
    "            prev_row[merge_col] += ' ' + row[merge_col]\n",
    "            if len(row[mr_col].strip()) > 0:\n",
    "                prev_row[mr_col] += ' ' + row[mr_col]\n",
    "            \n",
    "            to_drop.append(i)\n",
    "\n",
    "    return companies.drop(to_drop).reset_index(drop=True)"
   ]
  },
  {
   "cell_type": "code",
   "execution_count": null,
   "metadata": {},
   "outputs": [],
   "source": [
    "c1 = fix_multirow(companies, 'supplier_name', 'address')\n",
    "c2 = fix_multirow(c1, 'address', 'supplier_name')"
   ]
  },
  {
   "cell_type": "code",
   "execution_count": null,
   "metadata": {},
   "outputs": [],
   "source": [
    "multiline_corps = [\n",
    "    '(Foxconn)',\n",
    "    '(Foxlink)',\n",
    "    '& Systemtechnik AG',\n",
    "    'Co., Ltd.',\n",
    "    'Co., Ltd. (TSMC)',\n",
    "    'Manufacturing Co., Ltd.',\n",
    "    'Products Co., Ltd.',\n",
    "    'Technology Co., Ltd.',\n",
    "]\n",
    "\n",
    "final = fix_multirow(c2, 'supplier_name', 'address', multiline_corps)"
   ]
  },
  {
   "cell_type": "markdown",
   "metadata": {},
   "source": [
    "## Geolocate all the addresses\n",
    "\n",
    "Geolocating through Google API is not free (and it's slow), so adding a caching layer."
   ]
  },
  {
   "cell_type": "code",
   "execution_count": null,
   "metadata": {},
   "outputs": [],
   "source": [
    "import configparser\n",
    "config = configparser.ConfigParser()\n",
    "config.read('secrets.ini')\n",
    "\n",
    "MAPS_API_KEY = config['GoogleMaps']['ApiKey']"
   ]
  },
  {
   "cell_type": "code",
   "execution_count": null,
   "metadata": {},
   "outputs": [],
   "source": [
    "import sys\n",
    "sys.path.append(\".\")\n",
    "\n",
    "from apple_suppliers.geolocation import Geolocation\n",
    "\n",
    "gl = Geolocation(MAPS_API_KEY)\n",
    "gl.extract_region('1600 Amphitheatre Parkway, Mountain View, CA')"
   ]
  },
  {
   "cell_type": "code",
   "execution_count": null,
   "metadata": {},
   "outputs": [],
   "source": [
    "from apple_suppliers.log_progress import log_progress\n",
    "\n",
    "for addr in log_progress(final.address):\n",
    "    gl.geocode(addr)"
   ]
  },
  {
   "cell_type": "code",
   "execution_count": null,
   "metadata": {},
   "outputs": [],
   "source": [
    "# Manually fix address that didn't geocode correctly\n",
    "\n",
    "gl.cache['560 Moo 2 Bangpa-in Industrial Estate, Udomsorayuth Road, T.Klong-Jik, Bang Pa-In, Ayutthaya, Thailand'] = \\\n",
    "    gl.geocode('Udomsorayuth Road, T.Klong-Jik, Bang Pa-In, Ayutthaya, Thailand')\n",
    "\n",
    "gl.cache['No. 18 Pan Long Shan Road, Jiangyin, Jiangsu, China'] = \\\n",
    "    gl.geocode('Pan Long Shan, Jiangyin, Jiangsu, China')\n",
    "\n",
    "gl.cache['No. 2275 Chengliu Zhonglu, Jiading District, Shanghai, China'] = \\\n",
    "    gl.geocode('Prent Corp. No. 2275 Chengliu Zhonglu, Jiading District, Shanghai, China')\n",
    "\n",
    "gl.cache['727 Kihara, Kiyotake-cho, Miyazaki, Japan'] = \\\n",
    "    gl.geocode('Kihara, Kiyotake-cho, Miyazaki, Japan')\n",
    "\n",
    "gl.write_cache()"
   ]
  },
  {
   "cell_type": "code",
   "execution_count": null,
   "metadata": {},
   "outputs": [],
   "source": [
    "final['lat'] = final.address.apply(gl.extract_lat)\n",
    "final['lng'] = final.address.apply(gl.extract_lng)\n",
    "final['country'] = final.address.apply(gl.extract_country)\n",
    "final['region'] = final.address.apply(gl.extract_region)\n",
    "\n",
    "final.to_csv('data/suppliers.csv')"
   ]
  },
  {
   "cell_type": "markdown",
   "metadata": {},
   "source": [
    "## Distribution by country"
   ]
  },
  {
   "cell_type": "code",
   "execution_count": null,
   "metadata": {},
   "outputs": [],
   "source": [
    "final.country.value_counts(ascending=True).plot(kind='barh', figsize=(16,8))"
   ]
  },
  {
   "cell_type": "markdown",
   "metadata": {},
   "source": [
    "## The Map"
   ]
  },
  {
   "cell_type": "code",
   "execution_count": null,
   "metadata": {},
   "outputs": [],
   "source": [
    "import gmaps\n",
    "import gmaps.datasets\n",
    "gmaps.configure(api_key=MAPS_API_KEY)\n",
    "\n",
    "fig = gmaps.figure(center=(0, 0), zoom_level=2, display_toolbar=False, \n",
    "                   layout={'width': '950px', 'height': '750px'})\n",
    "\n",
    "info_box_template = \"\"\"\n",
    "<dl>\n",
    "<dt>{name}</dt>\n",
    "<dd>{address}</dd>\n",
    "</dl>\n",
    "\"\"\"\n",
    "info = [info_box_template.format(name=row.supplier_name, address=row.address) for i, row in final.iterrows()]\n",
    "\n",
    "symbols = gmaps.symbol_layer(final[['lat', 'lng']], info_box_content=info,\n",
    "                             fill_color='blue', fill_opacity=.6, stroke_color='blue', stroke_opacity=0, scale=2)\n",
    "fig.add_layer(symbols)\n",
    "\n",
    "heatmap = gmaps.heatmap_layer(final[['lat', 'lng']], dissipating=False, point_radius=3)\n",
    "fig.add_layer(heatmap)\n",
    "\n",
    "fig"
   ]
  },
  {
   "cell_type": "code",
   "execution_count": null,
   "metadata": {},
   "outputs": [],
   "source": []
  }
 ],
 "metadata": {
  "kernelspec": {
   "display_name": "Python 3",
   "language": "python",
   "name": "python3"
  },
  "language_info": {
   "codemirror_mode": {
    "name": "ipython",
    "version": 3
   },
   "file_extension": ".py",
   "mimetype": "text/x-python",
   "name": "python",
   "nbconvert_exporter": "python",
   "pygments_lexer": "ipython3",
   "version": "3.6.5"
  }
 },
 "nbformat": 4,
 "nbformat_minor": 2
}
